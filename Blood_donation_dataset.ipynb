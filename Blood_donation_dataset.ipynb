{
 "cells": [
  {
   "cell_type": "code",
   "execution_count": 9,
   "id": "f8f01bd9-1ea1-4899-84f7-f3b4e2847378",
   "metadata": {},
   "outputs": [],
   "source": [
    "import pandas as pd \n",
    "import numpy as np\n",
    "import random\n",
    "from datetime import datetime, timedelta"
   ]
  },
  {
   "cell_type": "code",
   "execution_count": 2,
   "id": "fd82a615-6699-49bb-9a16-2aab89a90587",
   "metadata": {},
   "outputs": [],
   "source": [
    "np.random.seed(42)"
   ]
  },
  {
   "cell_type": "code",
   "execution_count": 3,
   "id": "0f273cd1-a3a0-4903-beff-1fe7d1c6e0b7",
   "metadata": {},
   "outputs": [],
   "source": [
    "num_records = 10000"
   ]
  },
  {
   "cell_type": "code",
   "execution_count": 5,
   "id": "6a406c8f-e41c-40fb-9511-9e0cd72813f1",
   "metadata": {},
   "outputs": [],
   "source": [
    "#blood groups  :\n",
    "blood_groups = ['A+', 'A-', 'B+', 'B-', 'O+', 'O-', 'AB+', 'AB-']\n",
    "genders = ['M', 'F']\n",
    "\n"
   ]
  },
  {
   "cell_type": "code",
   "execution_count": 6,
   "id": "5d2aeedd-a5bd-4358-91ec-57dc1a04e46d",
   "metadata": {},
   "outputs": [],
   "source": [
    "#object data for the stored data in generated csv \n",
    "data = {\n",
    "    'Donor ID': [f'D{str(i).zfill(5)}' for i in range(1, num_records + 1)],\n",
    "    'Age': np.random.randint(18, 61, size=num_records),\n",
    "    'Blood Group': np.random.choice(blood_groups, size=num_records),\n",
    "    'Gender': np.random.choice(genders, size=num_records),\n",
    "    'Last Donation Date': [datetime.now() - timedelta(days=np.random.randint(30, 365*2)) for _ in range(num_records)],\n",
    "    'Total Donations': np.random.randint(1, 21, size=num_records),\n",
    "    'Latitude': np.random.uniform(8.0, 37.0, size=num_records),   # Approximate lattitude in accordance to  the map of india \n",
    "    'Longitude': np.random.uniform(68.0, 97.0, size=num_records), # Approx India lon range\n",
    "    'Registered Availability': np.random.choice(['Yes', 'No'], size=num_records, p=[0.7, 0.3]),\n",
    "    'Avg Donation Gap (days)': np.random.randint(60, 120, size=num_records),\n",
    "    'Donation Willingness Score': np.round(np.random.uniform(0.3, 1.0, size=num_records), 2),\n",
    "    'Health Flag': np.random.choice([1, 0], size=num_records, p=[0.85, 0.15])\n",
    "}\n"
   ]
  },
  {
   "cell_type": "code",
   "execution_count": 10,
   "id": "165c712f-9e6f-4129-8503-070bd187c8de",
   "metadata": {},
   "outputs": [],
   "source": [
    "df = pd.DataFrame(data)"
   ]
  },
  {
   "cell_type": "code",
   "execution_count": 11,
   "id": "f2092743-ca08-4259-bca0-e506e4219659",
   "metadata": {},
   "outputs": [
    {
     "data": {
      "text/html": [
       "<div>\n",
       "<style scoped>\n",
       "    .dataframe tbody tr th:only-of-type {\n",
       "        vertical-align: middle;\n",
       "    }\n",
       "\n",
       "    .dataframe tbody tr th {\n",
       "        vertical-align: top;\n",
       "    }\n",
       "\n",
       "    .dataframe thead th {\n",
       "        text-align: right;\n",
       "    }\n",
       "</style>\n",
       "<table border=\"1\" class=\"dataframe\">\n",
       "  <thead>\n",
       "    <tr style=\"text-align: right;\">\n",
       "      <th></th>\n",
       "      <th>Donor ID</th>\n",
       "      <th>Age</th>\n",
       "      <th>Blood Group</th>\n",
       "      <th>Gender</th>\n",
       "      <th>Last Donation Date</th>\n",
       "      <th>Total Donations</th>\n",
       "      <th>Latitude</th>\n",
       "      <th>Longitude</th>\n",
       "      <th>Registered Availability</th>\n",
       "      <th>Avg Donation Gap (days)</th>\n",
       "      <th>Donation Willingness Score</th>\n",
       "      <th>Health Flag</th>\n",
       "    </tr>\n",
       "  </thead>\n",
       "  <tbody>\n",
       "    <tr>\n",
       "      <th>0</th>\n",
       "      <td>D00001</td>\n",
       "      <td>56</td>\n",
       "      <td>O+</td>\n",
       "      <td>F</td>\n",
       "      <td>2024-07-25 12:20:39.897545</td>\n",
       "      <td>16</td>\n",
       "      <td>31.727210</td>\n",
       "      <td>76.393199</td>\n",
       "      <td>Yes</td>\n",
       "      <td>96</td>\n",
       "      <td>0.96</td>\n",
       "      <td>1</td>\n",
       "    </tr>\n",
       "    <tr>\n",
       "      <th>1</th>\n",
       "      <td>D00002</td>\n",
       "      <td>46</td>\n",
       "      <td>B-</td>\n",
       "      <td>M</td>\n",
       "      <td>2023-10-23 12:20:39.897564</td>\n",
       "      <td>2</td>\n",
       "      <td>35.086207</td>\n",
       "      <td>95.805058</td>\n",
       "      <td>No</td>\n",
       "      <td>76</td>\n",
       "      <td>0.65</td>\n",
       "      <td>1</td>\n",
       "    </tr>\n",
       "    <tr>\n",
       "      <th>2</th>\n",
       "      <td>D00003</td>\n",
       "      <td>32</td>\n",
       "      <td>A-</td>\n",
       "      <td>M</td>\n",
       "      <td>2024-10-02 12:20:39.897570</td>\n",
       "      <td>17</td>\n",
       "      <td>14.654570</td>\n",
       "      <td>74.086678</td>\n",
       "      <td>Yes</td>\n",
       "      <td>109</td>\n",
       "      <td>0.50</td>\n",
       "      <td>1</td>\n",
       "    </tr>\n",
       "    <tr>\n",
       "      <th>3</th>\n",
       "      <td>D00004</td>\n",
       "      <td>60</td>\n",
       "      <td>AB-</td>\n",
       "      <td>M</td>\n",
       "      <td>2024-04-07 12:20:39.897574</td>\n",
       "      <td>4</td>\n",
       "      <td>24.796653</td>\n",
       "      <td>89.998489</td>\n",
       "      <td>Yes</td>\n",
       "      <td>94</td>\n",
       "      <td>0.57</td>\n",
       "      <td>1</td>\n",
       "    </tr>\n",
       "    <tr>\n",
       "      <th>4</th>\n",
       "      <td>D00005</td>\n",
       "      <td>25</td>\n",
       "      <td>A-</td>\n",
       "      <td>M</td>\n",
       "      <td>2023-12-02 12:20:39.897578</td>\n",
       "      <td>14</td>\n",
       "      <td>31.325577</td>\n",
       "      <td>87.565493</td>\n",
       "      <td>Yes</td>\n",
       "      <td>110</td>\n",
       "      <td>0.48</td>\n",
       "      <td>0</td>\n",
       "    </tr>\n",
       "  </tbody>\n",
       "</table>\n",
       "</div>"
      ],
      "text/plain": [
       "  Donor ID  Age Blood Group Gender         Last Donation Date  \\\n",
       "0   D00001   56          O+      F 2024-07-25 12:20:39.897545   \n",
       "1   D00002   46          B-      M 2023-10-23 12:20:39.897564   \n",
       "2   D00003   32          A-      M 2024-10-02 12:20:39.897570   \n",
       "3   D00004   60         AB-      M 2024-04-07 12:20:39.897574   \n",
       "4   D00005   25          A-      M 2023-12-02 12:20:39.897578   \n",
       "\n",
       "   Total Donations   Latitude  Longitude Registered Availability  \\\n",
       "0               16  31.727210  76.393199                     Yes   \n",
       "1                2  35.086207  95.805058                      No   \n",
       "2               17  14.654570  74.086678                     Yes   \n",
       "3                4  24.796653  89.998489                     Yes   \n",
       "4               14  31.325577  87.565493                     Yes   \n",
       "\n",
       "   Avg Donation Gap (days)  Donation Willingness Score  Health Flag  \n",
       "0                       96                        0.96            1  \n",
       "1                       76                        0.65            1  \n",
       "2                      109                        0.50            1  \n",
       "3                       94                        0.57            1  \n",
       "4                      110                        0.48            0  "
      ]
     },
     "execution_count": 11,
     "metadata": {},
     "output_type": "execute_result"
    }
   ],
   "source": [
    "df.head()"
   ]
  },
  {
   "cell_type": "code",
   "execution_count": 12,
   "id": "dd7eb331-79dc-479a-82b0-c55d21cc6286",
   "metadata": {},
   "outputs": [
    {
     "name": "stdout",
     "output_type": "stream",
     "text": [
      "<class 'pandas.core.frame.DataFrame'>\n",
      "RangeIndex: 10000 entries, 0 to 9999\n",
      "Data columns (total 12 columns):\n",
      " #   Column                      Non-Null Count  Dtype         \n",
      "---  ------                      --------------  -----         \n",
      " 0   Donor ID                    10000 non-null  object        \n",
      " 1   Age                         10000 non-null  int32         \n",
      " 2   Blood Group                 10000 non-null  object        \n",
      " 3   Gender                      10000 non-null  object        \n",
      " 4   Last Donation Date          10000 non-null  datetime64[ns]\n",
      " 5   Total Donations             10000 non-null  int32         \n",
      " 6   Latitude                    10000 non-null  float64       \n",
      " 7   Longitude                   10000 non-null  float64       \n",
      " 8   Registered Availability     10000 non-null  object        \n",
      " 9   Avg Donation Gap (days)     10000 non-null  int32         \n",
      " 10  Donation Willingness Score  10000 non-null  float64       \n",
      " 11  Health Flag                 10000 non-null  int64         \n",
      "dtypes: datetime64[ns](1), float64(3), int32(3), int64(1), object(4)\n",
      "memory usage: 820.4+ KB\n"
     ]
    }
   ],
   "source": [
    "df.info()"
   ]
  },
  {
   "cell_type": "code",
   "execution_count": 13,
   "id": "5fc9740a-8ae2-4c29-a7cd-05d8dfa522e8",
   "metadata": {},
   "outputs": [],
   "source": [
    "df['Last Donation Date'] =  df['Last Donation Date'].dt.strftime('%y-%m-%d')"
   ]
  },
  {
   "cell_type": "code",
   "execution_count": 16,
   "id": "0d9ee745-4d17-4efc-9bd6-4c2c60a5f737",
   "metadata": {},
   "outputs": [
    {
     "name": "stdout",
     "output_type": "stream",
     "text": [
      "<class 'pandas.core.frame.DataFrame'>\n",
      "RangeIndex: 10000 entries, 0 to 9999\n",
      "Data columns (total 12 columns):\n",
      " #   Column                      Non-Null Count  Dtype  \n",
      "---  ------                      --------------  -----  \n",
      " 0   Donor ID                    10000 non-null  object \n",
      " 1   Age                         10000 non-null  int32  \n",
      " 2   Blood Group                 10000 non-null  object \n",
      " 3   Gender                      10000 non-null  object \n",
      " 4   Last Donation Date          10000 non-null  object \n",
      " 5   Total Donations             10000 non-null  int32  \n",
      " 6   Latitude                    10000 non-null  float64\n",
      " 7   Longitude                   10000 non-null  float64\n",
      " 8   Registered Availability     10000 non-null  object \n",
      " 9   Avg Donation Gap (days)     10000 non-null  int32  \n",
      " 10  Donation Willingness Score  10000 non-null  float64\n",
      " 11  Health Flag                 10000 non-null  int64  \n",
      "dtypes: float64(3), int32(3), int64(1), object(5)\n",
      "memory usage: 820.4+ KB\n"
     ]
    }
   ],
   "source": [
    "df.info()"
   ]
  },
  {
   "cell_type": "code",
   "execution_count": 17,
   "id": "9028f6ae-99ee-488f-9d61-0f0c783cc5ff",
   "metadata": {},
   "outputs": [],
   "source": [
    "df.to_csv('donor_data_dummy_india.csv',index = False)"
   ]
  },
  {
   "cell_type": "code",
   "execution_count": null,
   "id": "1e42f8da-174b-43d8-9f9e-abd71a5b42c9",
   "metadata": {},
   "outputs": [],
   "source": []
  }
 ],
 "metadata": {
  "kernelspec": {
   "display_name": "Python 3 (ipykernel)",
   "language": "python",
   "name": "python3"
  },
  "language_info": {
   "codemirror_mode": {
    "name": "ipython",
    "version": 3
   },
   "file_extension": ".py",
   "mimetype": "text/x-python",
   "name": "python",
   "nbconvert_exporter": "python",
   "pygments_lexer": "ipython3",
   "version": "3.13.2"
  }
 },
 "nbformat": 4,
 "nbformat_minor": 5
}
